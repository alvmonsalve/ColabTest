{
  "nbformat": 4,
  "nbformat_minor": 0,
  "metadata": {
    "colab": {
      "name": "File1.ipynb",
      "provenance": [],
      "authorship_tag": "ABX9TyMkC4Ofq4vZ/uFm+8JNE+MP",
      "include_colab_link": true
    },
    "kernelspec": {
      "name": "python3",
      "display_name": "Python 3"
    }
  },
  "cells": [
    {
      "cell_type": "markdown",
      "metadata": {
        "id": "view-in-github",
        "colab_type": "text"
      },
      "source": [
        "<a href=\"https://colab.research.google.com/github/alvmonsalve/ColabTest/blob/main/File1.ipynb\" target=\"_parent\"><img src=\"https://colab.research.google.com/assets/colab-badge.svg\" alt=\"Open In Colab\"/></a>"
      ]
    },
    {
      "cell_type": "markdown",
      "metadata": {
        "id": "4dTPyiGQ2UO3"
      },
      "source": [
        "This is File 1"
      ]
    },
    {
      "cell_type": "code",
      "metadata": {
        "id": "vayDeMH_2Rt9"
      },
      "source": [
        ""
      ],
      "execution_count": null,
      "outputs": []
    }
  ]
}